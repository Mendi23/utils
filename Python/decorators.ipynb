{
 "metadata": {
  "language_info": {
   "codemirror_mode": {
    "name": "ipython",
    "version": 3
   },
   "file_extension": ".py",
   "mimetype": "text/x-python",
   "name": "python",
   "nbconvert_exporter": "python",
   "pygments_lexer": "ipython3",
   "version": "3.8.2-final"
  },
  "orig_nbformat": 2,
  "kernelspec": {
   "name": "python38264bitjupytervenv97b98fac26ff4c06955b421277ac5f4f",
   "display_name": "Python 3.8.2 64-bit ('jupyter': venv)"
  }
 },
 "nbformat": 4,
 "nbformat_minor": 2,
 "cells": [
  {
   "cell_type": "markdown",
   "metadata": {},
   "source": [
    "# Decorators For Fun And Profit\n",
    "just read [The ultimate guide](https://realpython.com/primer-on-python-decorators/) if you've got the time, there's also [this](https://wiki.python.org/moin/PythonDecoratorLibrary) wiki entry. check out the [decorator](https://github.com/micheles/decorator/blob/master/docs/documentation.md) library, it could be usefull."
   ]
  },
  {
   "cell_type": "markdown",
   "metadata": {},
   "source": [
    "## Function Decorators\n",
    "This is the most useful and popular decorators. let's start with the simpler use case"
   ]
  },
  {
   "cell_type": "code",
   "execution_count": null,
   "metadata": {
    "tags": []
   },
   "outputs": [],
   "source": [
    "import functools\n",
    "\n",
    "def wrapper(func):\n",
    "    @functools.wraps(func)\n",
    "    def inner(*args, **kwargs):\n",
    "        print('inner')\n",
    "        return func(*args, **kwargs)\n",
    "    return inner\n",
    "\n",
    "@wrapper\n",
    "def f():\n",
    "    print('hi')\n",
    "f()"
   ]
  },
  {
   "cell_type": "markdown",
   "metadata": {},
   "source": [
    "Here is a way to look at it. when the program get interpeted, the following psuedo-command is executed: `f = wrapper(f).inner`, and the rest of your code is run accoridanly.  \n",
    "\n",
    "we use `functools.wraps` in order to preserve info of the wrapped function on outside calls."
   ]
  },
  {
   "cell_type": "code",
   "execution_count": null,
   "metadata": {
    "tags": []
   },
   "outputs": [],
   "source": [
    "def args_wrapper(*wrapper_args, **wrapper_kwargs):\n",
    "    print(wrapper_args, wrapper_kwargs)\n",
    "    return wrapper\n",
    "\n",
    "@args_wrapper(1, a=2)\n",
    "def f():\n",
    "    print('hi')\n",
    "f()"
   ]
  },
  {
   "cell_type": "markdown",
   "metadata": {},
   "source": [
    "usually we'll define wrapper inside args_wrapper so it'll have access to `wrapper_args`, `wrapper_kwargs`"
   ]
  },
  {
   "cell_type": "code",
   "execution_count": null,
   "metadata": {
    "tags": []
   },
   "outputs": [],
   "source": [
    "def option_kw_wrapper(func=None, *, a=5, b=6):\n",
    "    print(a,b)\n",
    "    if func is None:\n",
    "        return wrapper\n",
    "    else:\n",
    "        return wrapper(func)\n",
    "\n",
    "\n",
    "@option_kw_wrapper\n",
    "def f():\n",
    "    print('hi f')\n",
    "f()\n",
    "\n",
    "@option_kw_wrapper(b=1, a=2)\n",
    "def g():\n",
    "    print('hi g')\n",
    "g()"
   ]
  },
  {
   "cell_type": "markdown",
   "metadata": {},
   "source": [
    "## Class Decorators"
   ]
  },
  {
   "cell_type": "markdown",
   "metadata": {},
   "source": [
    "### Basic class decorator\n",
    "\n",
    "this class reserve all attributes of its parent (some immutable class you want your function to be an instance of), except calling it is like calling fun.\n",
    "\n",
    "we use `update_wrapper` because `wraps` is only for function decorators. both are doing the same thing."
   ]
  },
  {
   "cell_type": "code",
   "execution_count": null,
   "metadata": {},
   "outputs": [],
   "source": [
    "class Example:\n",
    "    def __init__(self, function, *args, **kwargs):\n",
    "        super().__init__(*args, **kwargs)\n",
    "        functools.update_wrapper(self, function)\n",
    "        self._function = function\n",
    "    \n",
    "    def __call__(self, *args, **kwargs):\n",
    "        return self._function(*args, **kwargs)\n",
    "\n",
    "@Example\n",
    "def fun(a,b):\n",
    "    print(a,b)"
   ]
  },
  {
   "cell_type": "markdown",
   "metadata": {},
   "source": [
    "### class with __init__ arguments"
   ]
  },
  {
   "cell_type": "code",
   "execution_count": null,
   "metadata": {},
   "outputs": [],
   "source": [
    "class Example:\n",
    "    def __init__(self, function, arg1, arg2):\n",
    "        functools.update_wrapper(self, function)\n",
    "        self._function = function\n",
    "        self._arg1 = arg1\n",
    "        self._arg2 = arg2\n",
    "    \n",
    "    def __call__(self, *arg, **kwargs):\n",
    "        print(self._arg1, self._arg2)\n",
    "        return self._function(*arg, **kwargs)\n",
    "\n",
    "def example_wrapper(*args, **kwargs):\n",
    "    def wrapper(function):\n",
    "        return Example(function, *args, **kwargs)\n",
    "    return wrapper\n",
    "\n",
    "@example_wrapper(1, 3)\n",
    "def fun(a, b):\n",
    "    print(a, b)\n",
    "\n",
    "fun(4,5)"
   ]
  },
  {
   "cell_type": "markdown",
   "metadata": {},
   "source": [
    "### More info"
   ]
  },
  {
   "cell_type": "code",
   "execution_count": null,
   "metadata": {
    "tags": []
   },
   "outputs": [],
   "source": [
    "# decorating a class is equivalent to `a = wrapper(ExampleClass)`\n",
    "@wrapper\n",
    "class A:\n",
    "    def __init__(self):\n",
    "        print('init')\n",
    "a = A()"
   ]
  },
  {
   "cell_type": "code",
   "execution_count": null,
   "metadata": {
    "tags": []
   },
   "outputs": [],
   "source": [
    "# nesting decorators are executed top to bottom\n",
    "@args_wrapper(3, d=5)\n",
    "@wrapper\n",
    "def f():\n",
    "    print('hi')\n",
    "f()"
   ]
  },
  {
   "cell_type": "code",
   "execution_count": null,
   "metadata": {},
   "outputs": [],
   "source": []
  }
 ]
}