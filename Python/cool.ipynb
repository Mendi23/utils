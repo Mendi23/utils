{
 "cells": [
  {
   "cell_type": "markdown",
   "metadata": {},
   "source": [
    "# Cool Python stuff\n",
    "This isn't a guide to python, it's just a collection of cool stuff I doscovered along the way and seems non-trivial to me. What constitue 'cool' is somewhat arbitrary, because I'm the judge, and I need to find the idea to be somewhat obscure. Thats why `lambda` and `enumerate` aren't in here (even though they're very very cool), when I got down to writing this, I've already seen and used them thousands of times, so they longer apply"
   ]
  },
  {
   "cell_type": "markdown",
   "metadata": {},
   "source": [
    "### Dynamic classes"
   ]
  },
  {
   "cell_type": "code",
   "execution_count": null,
   "metadata": {},
   "outputs": [],
   "source": [
    "NewClass = type(\"NewClass\", (object,), {\"fun\": lambda self, x: self.x=x})\n",
    "# equivalent to\n",
    "class NewClass:\n",
    "    def fun(self, x):\n",
    "        self.x=x\n",
    "\n",
    "# def: type(cls, what, bases=None, dict=None) "
   ]
  },
  {
   "cell_type": "markdown",
   "metadata": {},
   "source": [
    "### Function attributes\n",
    "function can be classes-like and can have attributes. those are usefull for state variables that you have to pass around..."
   ]
  },
  {
   "cell_type": "code",
   "execution_count": null,
   "metadata": {},
   "outputs": [],
   "source": [
    "def f():\n",
    "    f.number_of_calls += 1\n",
    "\n",
    "f.number_of_calls = 1\n",
    "f()\n",
    "f.number_of_calls\n",
    " "
   ]
  },
  {
   "cell_type": "markdown",
   "metadata": {},
   "source": [
    "## Outer-scope variables value\n",
    "Let's say we want to define a function `fun`, which uses the value of some **outer-scope** variable `i`.  \n",
    "It's important to make the distinction weather we want `i`'s value inside `fun` to be determined when *initilizing* `fun` or when *calliing* it.  \n",
    "The following example shows the difference between the two options. `fun1` and `fun2` are both doing the same thing, except in `fun2` we set the value of the inner variable to `i`s value at the time of `fun2` initilizeation, and `fun1` uses the value of the global variable `i` at the time of the function call:"
   ]
  },
  {
   "cell_type": "code",
   "execution_count": null,
   "metadata": {
    "tags": []
   },
   "outputs": [],
   "source": [
    "i = 'initial value'\n",
    "fun1 = lambda: print(i)\n",
    "fun2 = lambda x=i: print(x)\n",
    "i = 'changed value'\n",
    "fun1()\n",
    "fun2()"
   ]
  },
  {
   "cell_type": "markdown",
   "metadata": {},
   "source": [
    "## Default arguments are set at initialization"
   ]
  },
  {
   "cell_type": "code",
   "execution_count": null,
   "metadata": {
    "tags": []
   },
   "outputs": [],
   "source": [
    "# list example\n",
    "def add_one_to_list(l=[]):\n",
    "    l.append(1)\n",
    "    return l\n",
    "first_list = add_one_to_list()\n",
    "second_list = add_one_to_list()\n",
    "second_list"
   ]
  },
  {
   "cell_type": "code",
   "execution_count": null,
   "metadata": {},
   "outputs": [],
   "source": [
    "# dict example\n",
    "def set_key_to_five(k, d={}):\n",
    "    d[k] = 5\n",
    "    return d\n",
    "first_dict = set_key_to_five('a')\n",
    "second_dict = set_key_to_five('b')\n",
    "second_dict"
   ]
  },
  {
   "cell_type": "code",
   "execution_count": null,
   "metadata": {},
   "outputs": [],
   "source": [
    "# correct way\n",
    "def add_one_to_list(l=None):\n",
    "    if l is None:\n",
    "        l = []\n",
    "    l.append(1)\n",
    "    return l\n",
    "first_list = add_one_to_list()\n",
    "second_list = add_one_to_list()\n",
    "second_list"
   ]
  },
  {
   "cell_type": "markdown",
   "metadata": {},
   "source": [
    "## While True?\n",
    "`iter` accepts a function! use `partial` if needed"
   ]
  },
  {
   "cell_type": "code",
   "execution_count": null,
   "metadata": {},
   "outputs": [],
   "source": [
    "# wrong way\n",
    "user_input = []\n",
    "while True:\n",
    "    b = input()\n",
    "    if b == 'exit':\n",
    "        break\n",
    "    user_input.append(b)"
   ]
  },
  {
   "cell_type": "code",
   "execution_count": null,
   "metadata": {},
   "outputs": [],
   "source": [
    "# correct way\n",
    "from functools import partial\n",
    "user_input = []\n",
    "for b in iter(partial(input, 'exit')):\n",
    "    user_input.append(b)\n",
    "user_input"
   ]
  },
  {
   "cell_type": "markdown",
   "metadata": {},
   "source": [
    "## `else` is not just for `if` anymore!"
   ]
  },
  {
   "cell_type": "code",
   "execution_count": null,
   "metadata": {
    "tags": []
   },
   "outputs": [],
   "source": [
    "for i in range(5):\n",
    "    if i == 10:\n",
    "        break\n",
    "else:\n",
    "    print('i is 3!')\n",
    "\n",
    "try:\n",
    "    pass\n",
    "except:\n",
    "    print(\"there was an error\")\n",
    "else:\n",
    "    print(\"there wasn't an error\")"
   ]
  },
  {
   "cell_type": "markdown",
   "metadata": {},
   "source": [
    "## `is` VS `==`"
   ]
  },
  {
   "cell_type": "markdown",
   "metadata": {},
   "source": [
    "## `set` operators "
   ]
  },
  {
   "cell_type": "code",
   "execution_count": null,
   "metadata": {},
   "outputs": [],
   "source": [
    "a, b = set(), set()\n",
    "a | b # a.union(b)\n",
    "a & b # a.intersect(b)\n",
    "a - b # a.difference(b)"
   ]
  },
  {
   "cell_type": "markdown",
   "metadata": {},
   "source": [
    "## Underscores\n",
    "Everything is from [this article](https://dbader.org/blog/meaning-of-underscores-in-python):\n",
    "* `_func`: \"private\". by default, doesn't import with `__all__`/`import *`\n",
    "* `var_`: naming conventions for disambiguate\n",
    "* `__attr`: \"dunder\". the interpreter will do \"name mangling\". transparent to the programmer but averts conflicts\n",
    "* `__foo__`: \"magic\" functions, reserved names\n",
    "* `_`: temporal variable, it's value doesn't matter"
   ]
  },
  {
   "cell_type": "markdown",
   "metadata": {},
   "source": [
    "## `pandas` is faster then `sqlite3`\n",
    "(this claim since been disputed. I've read conflicting reports, the jury is still out)"
   ]
  },
  {
   "cell_type": "code",
   "execution_count": null,
   "metadata": {},
   "outputs": [],
   "source": [
    "import pandas.io.sql as pds\n",
    "df = pds.read_sql('SELECT * FROM Tablw', con)\n",
    "# do manipulation on table...\n",
    "\n",
    "#faster than executing SQL-level manipulation, where clauses, etc."
   ]
  },
  {
   "cell_type": "markdown",
   "metadata": {},
   "source": [
    "## C-style arrays"
   ]
  },
  {
   "cell_type": "code",
   "execution_count": null,
   "metadata": {},
   "outputs": [],
   "source": [
    "import array as arr\n",
    "# it's more efficient (and much more limited) than list. use only if you don't change your values and all values are of the same basic type\n",
    "a = arr.array('d', [1.1, 3.5, 4.5])\n",
    "a[0]"
   ]
  },
  {
   "cell_type": "markdown",
   "metadata": {},
   "source": [
    "## np.sqrt VS math.sqrt VS **0.5\n",
    "Always use `math.sqrt`!"
   ]
  },
  {
   "cell_type": "code",
   "execution_count": 2,
   "metadata": {},
   "outputs": [
    {
     "name": "stdout",
     "output_type": "stream",
     "text": [
      "numpy.sqrt(x) :  6.788302597999973\n",
      "math.sqrt(x) :  0.49865783599943825\n",
      "x**0.5) :  1.2291418189997785\n"
     ]
    }
   ],
   "source": [
    "import timeit\n",
    "setup_code=[\n",
    "    ('numpy.sqrt(x)', 'from numpy import sqrt'),\n",
    "    ('math.sqrt(x)', 'from math import sqrt'),\n",
    "    ('x**0.5)', 'sqrt=lambda x: x**0.5'),\n",
    "]\n",
    "for name, s in setup_code:\n",
    "    print(name, ': ', timeit.timeit(stmt='[sqrt(i) for i in range(1000)]', setup=s, number=10000))\n"
   ]
  },
  {
   "cell_type": "markdown",
   "metadata": {},
   "source": [
    "## Context Managers"
   ]
  },
  {
   "cell_type": "code",
   "execution_count": null,
   "metadata": {},
   "outputs": [],
   "source": [
    "# Dynamically allocated context managers\n",
    "from contextlib import ExitStack\n",
    "# ExitStack ensures all files are properly closed after o/p\n",
    "with ExitStack() as stack:\n",
    "    streams = (\n",
    "        stack.enter_context(open(fname, \"r\"))\n",
    "        for fname in Path(\"src\").rglob(\"*.py\")\n",
    "    )\n",
    "    contents = [f.read() for f in streams]"
   ]
  },
  {
   "cell_type": "code",
   "execution_count": null,
   "metadata": {},
   "outputs": [],
   "source": [
    "# using contaxt manager for error handling\n",
    "\n",
    "@contextmanager\n",
    "def errhandler():\n",
    "    try:\n",
    "        yield\n",
    "    except ZeroDivisionError:\n",
    "        print(\"This is a custom ZeroDivisionError message.\")\n",
    "        raise\n",
    "    except TypeError:\n",
    "        print(\"This is a custom TypeError message.\")\n",
    "        raise\n",
    "\n",
    "@errhandler()\n",
    "def div(a, b):\n",
    "    return a // b\n",
    "# or\n",
    "with errhandler():\n",
    "    c = a // b"
   ]
  },
  {
   "cell_type": "code",
   "execution_count": null,
   "metadata": {},
   "outputs": [],
   "source": [
    "from functools import singledispatch\n",
    "@singledispatch\n",
    "def process(num=None):\n",
    "    raise NotImplementedError(\"Implement process function.\")\n",
    "\n",
    "\n",
    "@process.register(int)\n",
    "def sub_process(num):\n",
    "    # processing interger\n",
    "    return f\"Integer {num} has been processed successfully!\"\n",
    "\n",
    "\n",
    "@process.register(float)\n",
    "def sub_process(num):\n",
    "    # processing float\n",
    "    return f\"Float {num} has been processed successfully!\""
   ]
  },
  {
   "cell_type": "markdown",
   "metadata": {},
   "source": []
  }
 ],
 "metadata": {
  "interpreter": {
   "hash": "2093994fe7f6755faf11924b33b5f3184b9f1ae2288f0f6afb0fa33e3a89b265"
  },
  "kernelspec": {
   "display_name": "Python 3.8.10 64-bit ('env': venv)",
   "name": "python3"
  },
  "language_info": {
   "codemirror_mode": {
    "name": "ipython",
    "version": 3
   },
   "file_extension": ".py",
   "mimetype": "text/x-python",
   "name": "python",
   "nbconvert_exporter": "python",
   "pygments_lexer": "ipython3",
   "version": "3.8.10"
  },
  "orig_nbformat": 2
 },
 "nbformat": 4,
 "nbformat_minor": 2
}
