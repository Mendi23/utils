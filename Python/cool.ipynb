{
 "cells": [
  {
   "cell_type": "markdown",
   "source": [
    "# Cool Python stuff\n",
    "This isn't a guide to python, it's just a collection of cool stuff I doscovered along the way and seems non-trivial to me. What constitue 'cool' is somewhat arbitrary, because I'm the judge, and I need to find the idea to be somewhat obscure. Thats why `lambda` and `enumerate` aren't in here (even though they're very very cool), when I got down to writing this, I've already seen and used them thousands of times, so they longer apply"
   ],
   "metadata": {}
  },
  {
   "cell_type": "markdown",
   "source": [
    "### Dynamic classes"
   ],
   "metadata": {}
  },
  {
   "cell_type": "code",
   "execution_count": null,
   "source": [
    "NewClass = type(\"NewClass\", (object,), {\"fun\": lambda self, x: self.x=x})\n",
    "# equivalent to\n",
    "class NewClass:\n",
    "    def fun(self, x):\n",
    "        self.x=x\n",
    "\n",
    "# def: type(cls, what, bases=None, dict=None) "
   ],
   "outputs": [],
   "metadata": {}
  },
  {
   "cell_type": "markdown",
   "source": [
    "### Function attributes\n",
    "function can be classes-like and can have attributes. those are usefull for state variables that you have to pass around..."
   ],
   "metadata": {}
  },
  {
   "cell_type": "code",
   "execution_count": null,
   "source": [
    "def f():\n",
    "    f.number_of_calls += 1\n",
    "\n",
    "f.number_of_calls = 1\n",
    "f()\n",
    "f.number_of_calls\n",
    " "
   ],
   "outputs": [],
   "metadata": {}
  },
  {
   "cell_type": "markdown",
   "source": [
    "## Outer-scope variables value\n",
    "Let's say we want to define a function `fun`, which uses the value of some **outer-scope** variable `i`.  \n",
    "It's important to make the distinction weather we want `i`'s value inside `fun` to be determined when *initilizing* `fun` or when *calliing* it.  \n",
    "The following example shows the difference between the two options. `fun1` and `fun2` are both doing the same thing, except in `fun2` we set the value of the inner variable to `i`s value at the time of `fun2` initilizeation, and `fun1` uses the value of the global variable `i` at the time of the function call:"
   ],
   "metadata": {}
  },
  {
   "cell_type": "code",
   "execution_count": null,
   "source": [
    "i = 'initial value'\n",
    "fun1 = lambda: print(i)\n",
    "fun2 = lambda x=i: print(x)\n",
    "i = 'changed value'\n",
    "fun1()\n",
    "fun2()"
   ],
   "outputs": [],
   "metadata": {
    "tags": []
   }
  },
  {
   "cell_type": "markdown",
   "source": [
    "## Default arguments are set at initialization"
   ],
   "metadata": {}
  },
  {
   "cell_type": "code",
   "execution_count": null,
   "source": [
    "# list example\n",
    "def add_one_to_list(l=[]):\n",
    "    l.append(1)\n",
    "    return l\n",
    "first_list = add_one_to_list()\n",
    "second_list = add_one_to_list()\n",
    "second_list"
   ],
   "outputs": [],
   "metadata": {
    "tags": []
   }
  },
  {
   "cell_type": "code",
   "execution_count": null,
   "source": [
    "# dict example\n",
    "def set_key_to_five(k, d={}):\n",
    "    d[k] = 5\n",
    "    return d\n",
    "first_dict = set_key_to_five('a')\n",
    "second_dict = set_key_to_five('b')\n",
    "second_dict"
   ],
   "outputs": [],
   "metadata": {}
  },
  {
   "cell_type": "code",
   "execution_count": null,
   "source": [
    "# correct way\n",
    "def add_one_to_list(l=None):\n",
    "    if l is None:\n",
    "        l = []\n",
    "    l.append(1)\n",
    "    return l\n",
    "first_list = add_one_to_list()\n",
    "second_list = add_one_to_list()\n",
    "second_list"
   ],
   "outputs": [],
   "metadata": {}
  },
  {
   "cell_type": "markdown",
   "source": [
    "## While True?\n",
    "`iter` accepts a function! use `partial` if needed"
   ],
   "metadata": {}
  },
  {
   "cell_type": "code",
   "execution_count": null,
   "source": [
    "# wrong way\n",
    "user_input = []\n",
    "while True:\n",
    "    b = input()\n",
    "    if b == 'exit':\n",
    "        break\n",
    "    user_input.append(b)"
   ],
   "outputs": [],
   "metadata": {}
  },
  {
   "cell_type": "code",
   "execution_count": null,
   "source": [
    "# correct way\n",
    "from functools import partial\n",
    "user_input = []\n",
    "for b in iter(partial(input, 'exit')):\n",
    "    user_input.append(b)\n",
    "user_input"
   ],
   "outputs": [],
   "metadata": {}
  },
  {
   "cell_type": "markdown",
   "source": [
    "## `else` is not just for `if` anymore!"
   ],
   "metadata": {}
  },
  {
   "cell_type": "code",
   "execution_count": null,
   "source": [
    "for i in range(5):\n",
    "    if i == 10:\n",
    "        break\n",
    "else:\n",
    "    print('i is 3!')\n",
    "\n",
    "try:\n",
    "    pass\n",
    "except:\n",
    "    print(\"there was an error\")\n",
    "else:\n",
    "    print(\"there wasn't an error\")"
   ],
   "outputs": [],
   "metadata": {
    "tags": []
   }
  },
  {
   "cell_type": "markdown",
   "source": [
    "## `is` VS `==`"
   ],
   "metadata": {}
  },
  {
   "cell_type": "markdown",
   "source": [
    "## `set` operators "
   ],
   "metadata": {}
  },
  {
   "cell_type": "code",
   "execution_count": null,
   "source": [
    "a, b = set(), set()\n",
    "a | b # a.union(b)\n",
    "a & b # a.intersect(b)\n",
    "a - b # a.difference(b)"
   ],
   "outputs": [],
   "metadata": {}
  },
  {
   "cell_type": "markdown",
   "source": [
    "## Underscores\n",
    "Everything is from [this article](https://dbader.org/blog/meaning-of-underscores-in-python):\n",
    "* `_func`: \"private\". by default, doesn't import with `__all__`/`import *`\n",
    "* `var_`: naming conventions for disambiguate\n",
    "* `__attr`: \"dunder\". the interpreter will do \"name mangling\". transparent to the programmer but averts conflicts\n",
    "* `__foo__`: \"magic\" functions, reserved names\n",
    "* `_`: temporal variable, it's value doesn't matter"
   ],
   "metadata": {}
  },
  {
   "cell_type": "markdown",
   "source": [
    "## `pandas` is faster then `sqlite3`\n",
    "(this claim since been disputed. I've read conflicting reports, the jury is still out)"
   ],
   "metadata": {}
  },
  {
   "cell_type": "code",
   "execution_count": null,
   "source": [
    "import pandas.io.sql as pds\n",
    "df = pds.read_sql('SELECT * FROM Tablw', con)\n",
    "# do manipulation on table...\n",
    "\n",
    "#faster than executing SQL-level manipulation, where clauses, etc."
   ],
   "outputs": [],
   "metadata": {}
  },
  {
   "cell_type": "markdown",
   "source": [
    "## C-style arrays"
   ],
   "metadata": {}
  },
  {
   "cell_type": "code",
   "execution_count": null,
   "source": [
    "import array as arr\n",
    "# it's more efficient (and much more limited) than list. use only if you don't change your values and all values are of the same basic type\n",
    "a = arr.array('d', [1.1, 3.5, 4.5])\n",
    "a[0]"
   ],
   "outputs": [],
   "metadata": {}
  },
  {
   "cell_type": "markdown",
   "source": [
    "## np.sqrt VS math.sqrt VS **0.5\n",
    "Always use `math.sqrt`!"
   ],
   "metadata": {}
  },
  {
   "cell_type": "code",
   "execution_count": 2,
   "source": [
    "import timeit\n",
    "setup_code=[\n",
    "    ('numpy.sqrt(x)', 'from numpy import sqrt'),\n",
    "    ('math.sqrt(x)', 'from math import sqrt'),\n",
    "    ('x**0.5)', 'sqrt=lambda x: x**0.5'),\n",
    "]\n",
    "for name, s in setup_code:\n",
    "    print(name, ': ', timeit.timeit(stmt='[sqrt(i) for i in range(1000)]', setup=s, number=10000))\n"
   ],
   "outputs": [
    {
     "output_type": "stream",
     "name": "stdout",
     "text": [
      "numpy.sqrt(x) :  6.788302597999973\n",
      "math.sqrt(x) :  0.49865783599943825\n",
      "x**0.5) :  1.2291418189997785\n"
     ]
    }
   ],
   "metadata": {}
  }
 ],
 "metadata": {
  "language_info": {
   "codemirror_mode": {
    "name": "ipython",
    "version": 3
   },
   "file_extension": ".py",
   "mimetype": "text/x-python",
   "name": "python",
   "nbconvert_exporter": "python",
   "pygments_lexer": "ipython3",
   "version": "3.8.10"
  },
  "orig_nbformat": 2,
  "kernelspec": {
   "name": "python3",
   "display_name": "Python 3.8.10 64-bit ('env': venv)"
  },
  "interpreter": {
   "hash": "2093994fe7f6755faf11924b33b5f3184b9f1ae2288f0f6afb0fa33e3a89b265"
  }
 },
 "nbformat": 4,
 "nbformat_minor": 2
}