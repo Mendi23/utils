{
 "cells": [
  {
   "cell_type": "markdown",
   "metadata": {},
   "source": [
    "# Cool Python stuff\n",
    "This isn't a guide to python, it's just a collection of cool stuff I doscovered along the way and seems non-trivial to me. What constitue 'cool' is somewhat arbitrary, because I'm the judge, and I need to find the idea to be somewhat obscure. Thats why `lambda` and `enumerate` aren't in here (even though they're very very cool), when I got down to writing this, I've already seen and used them thousands of times, so they longer apply"
   ]
  },
  {
   "cell_type": "markdown",
   "metadata": {},
   "source": [
    "### Dynamic classes"
   ]
  },
  {
   "cell_type": "code",
   "execution_count": null,
   "metadata": {},
   "outputs": [],
   "source": [
    "NewClass = type(\"NewClass\", (object,), {\"fun\": lambda self, x: self.x=x})\n",
    "# equivalent to\n",
    "class NewClass:\n",
    "    def fun(self, x):\n",
    "        self.x=x\n",
    "\n",
    "# def: type(cls, what, bases=None, dict=None) "
   ]
  },
  {
   "cell_type": "markdown",
   "metadata": {},
   "source": [
    "### Function attributes\n",
    "function can be classes-like and can have attributes. those are usefull for state variables that you have to pass around..."
   ]
  },
  {
   "cell_type": "code",
   "execution_count": 2,
   "metadata": {},
   "outputs": [
    {
     "output_type": "execute_result",
     "data": {
      "text/plain": "2"
     },
     "metadata": {},
     "execution_count": 2
    }
   ],
   "source": [
    "def f():\n",
    "    f.number_of_calls += 1\n",
    "\n",
    "f.number_of_calls = 1\n",
    "f()\n",
    "f.number_of_calls\n",
    " "
   ]
  },
  {
   "cell_type": "markdown",
   "metadata": {},
   "source": [
    "## Outer-scope variables value\n",
    "Let's say we want to define a function `fun`, which uses the value of some **outer-scope** variable `i`.  \n",
    "It's important to make the distinction weather we want `i`'s value inside `fun` to be determined when *initilizing* `fun` or when *calliing* it.  \n",
    "The following example shows the difference between the two options. `fun1` and `fun2` are both doing the same thing, except in `fun2` we set the value of the inner variable to `i`s value at the time of `fun2` initilizeation, and `fun1` uses the value of the global variable `i` at the time of the function call:"
   ]
  },
  {
   "cell_type": "code",
   "execution_count": 3,
   "metadata": {
    "tags": []
   },
   "outputs": [
    {
     "output_type": "stream",
     "name": "stdout",
     "text": "changed value\ninitial value\n"
    }
   ],
   "source": [
    "i = 'initial value'\n",
    "fun1 = lambda: print(i)\n",
    "fun2 = lambda x=i: print(x)\n",
    "i = 'changed value'\n",
    "fun1()\n",
    "fun2()"
   ]
  },
  {
   "cell_type": "markdown",
   "metadata": {},
   "source": [
    "## Default arguments are set at initialization"
   ]
  },
  {
   "cell_type": "code",
   "execution_count": 4,
   "metadata": {
    "tags": []
   },
   "outputs": [
    {
     "output_type": "execute_result",
     "data": {
      "text/plain": "[1, 1]"
     },
     "metadata": {},
     "execution_count": 4
    }
   ],
   "source": [
    "# list example\n",
    "def add_one_to_list(l=[]):\n",
    "    l.append(1)\n",
    "    return l\n",
    "first_list = add_one_to_list()\n",
    "second_list = add_one_to_list()\n",
    "second_list"
   ]
  },
  {
   "cell_type": "code",
   "execution_count": 5,
   "metadata": {},
   "outputs": [
    {
     "output_type": "execute_result",
     "data": {
      "text/plain": "{'a': 5, 'b': 5}"
     },
     "metadata": {},
     "execution_count": 5
    }
   ],
   "source": [
    "# dict example\n",
    "def set_key_to_five(k, d={}):\n",
    "    d[k] = 5\n",
    "    return d\n",
    "first_dict = set_key_to_five('a')\n",
    "second_dict = set_key_to_five('b')\n",
    "second_dict"
   ]
  },
  {
   "cell_type": "code",
   "execution_count": 6,
   "metadata": {},
   "outputs": [
    {
     "output_type": "execute_result",
     "data": {
      "text/plain": "[1]"
     },
     "metadata": {},
     "execution_count": 6
    }
   ],
   "source": [
    "# correct way\n",
    "def add_one_to_list(l=None):\n",
    "    if l is None:\n",
    "        l = []\n",
    "    l.append(1)\n",
    "    return l\n",
    "first_list = add_one_to_list()\n",
    "second_list = add_one_to_list()\n",
    "second_list"
   ]
  },
  {
   "cell_type": "markdown",
   "metadata": {},
   "source": [
    "## While True?\n",
    "`iter` accepts a function! use `partial` if needed"
   ]
  },
  {
   "cell_type": "code",
   "execution_count": 7,
   "metadata": {},
   "outputs": [],
   "source": [
    "# wrong way\n",
    "user_input = []\n",
    "while True:\n",
    "    b = input()\n",
    "    if b == 'exit':\n",
    "        break\n",
    "    user_input.append(b)"
   ]
  },
  {
   "cell_type": "code",
   "execution_count": 8,
   "metadata": {},
   "outputs": [
    {
     "output_type": "execute_result",
     "data": {
      "text/plain": "[]"
     },
     "metadata": {},
     "execution_count": 8
    }
   ],
   "source": [
    "# correct way\n",
    "from functools import partial\n",
    "user_input = []\n",
    "for b in iter(partial(input, 'exit')):\n",
    "    user_input.append(b)\n",
    "user_input"
   ]
  },
  {
   "cell_type": "markdown",
   "metadata": {},
   "source": [
    "## `else` is not just for `if` anymore!"
   ]
  },
  {
   "cell_type": "code",
   "execution_count": 9,
   "metadata": {
    "tags": []
   },
   "outputs": [
    {
     "output_type": "stream",
     "name": "stdout",
     "text": "i is 3!\nthere wasn't error\n"
    }
   ],
   "source": [
    "for i in range(5):\n",
    "    if i == 10:\n",
    "        break\n",
    "else:\n",
    "    print('i is 3!')\n",
    "\n",
    "try:\n",
    "    pass\n",
    "except:\n",
    "    print(\"there was an error\")\n",
    "else:\n",
    "    print(\"there wasn't an error\")"
   ]
  },
  {
   "cell_type": "markdown",
   "metadata": {},
   "source": [
    "## `is` VS `==`"
   ]
  },
  {
   "source": [
    "## `set` operators "
   ],
   "cell_type": "markdown",
   "metadata": {}
  },
  {
   "cell_type": "code",
   "execution_count": null,
   "metadata": {},
   "outputs": [],
   "source": [
    "a, b = set(), set()\n",
    "a | b # a.union(b)\n",
    "a & b # a.intersect(b)\n",
    "a - b # a.difference(b)"
   ]
  },
  {
   "source": [
    "## `pandas` is faster then `sqlite3`\n",
    "(this claim since been disputed. I've read conflicting reports, the jury is still out)"
   ],
   "cell_type": "markdown",
   "metadata": {}
  },
  {
   "cell_type": "code",
   "execution_count": null,
   "metadata": {},
   "outputs": [],
   "source": [
    "import pandas.io.sql as pds\n",
    "df = pds.read_sql('SELECT * FROM Tablw', con)\n",
    "# do manipulation on table...\n",
    "\n",
    "#faster than executing SQL-level manipulation, where clauses, etc."
   ]
  },
  {
   "source": [
    "## C-style arrays"
   ],
   "cell_type": "markdown",
   "metadata": {}
  },
  {
   "source": [
    "import array as arr\n",
    "# it's more efficient (and much more limited) than list. use only if you don't change your values and all values are of the same basic type\n",
    "a = arr.array('d', [1.1, 3.5, 4.5])\n",
    "a[0]"
   ],
   "cell_type": "code",
   "metadata": {},
   "execution_count": 2,
   "outputs": [
    {
     "output_type": "execute_result",
     "data": {
      "text/plain": [
       "1.1"
      ]
     },
     "metadata": {},
     "execution_count": 2
    }
   ]
  }
 ],
 "metadata": {
  "language_info": {
   "codemirror_mode": {
    "name": "ipython",
    "version": 3
   },
   "file_extension": ".py",
   "mimetype": "text/x-python",
   "name": "python",
   "nbconvert_exporter": "python",
   "pygments_lexer": "ipython3",
   "version": "3.8.5-final"
  },
  "orig_nbformat": 2,
  "kernelspec": {
   "name": "python38564bite2e055c24a3a4bdeb07006f697ae3cfa",
   "display_name": "Python 3.8.5 64-bit",
   "language": "python"
  }
 },
 "nbformat": 4,
 "nbformat_minor": 2
}