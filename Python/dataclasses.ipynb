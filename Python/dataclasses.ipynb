{
 "metadata": {
  "language_info": {
   "codemirror_mode": {
    "name": "ipython",
    "version": 3
   },
   "file_extension": ".py",
   "mimetype": "text/x-python",
   "name": "python",
   "nbconvert_exporter": "python",
   "pygments_lexer": "ipython3",
   "version": "3.8.10"
  },
  "orig_nbformat": 2,
  "kernelspec": {
   "name": "python3",
   "display_name": "Python 3.8.10 64-bit ('env': venv)"
  },
  "interpreter": {
   "hash": "2093994fe7f6755faf11924b33b5f3184b9f1ae2288f0f6afb0fa33e3a89b265"
  }
 },
 "nbformat": 4,
 "nbformat_minor": 2,
 "cells": [
  {
   "cell_type": "markdown",
   "source": [
    "# python's data classes\n",
    "just list and examples, more a cheat-sheet than a tuturial. see much more in-depth [here](https://realpython.com/python-data-structures/)"
   ],
   "metadata": {}
  },
  {
   "cell_type": "markdown",
   "source": [
    "## Mapping"
   ],
   "metadata": {}
  },
  {
   "cell_type": "code",
   "execution_count": null,
   "source": [
    "# OrderedDict\n",
    "\n",
    "import collections\n",
    "d = collections.OrderedDict({'a':1, 'b':2 , 'c':3}) # remember insertion order.\n",
    "d.popitem(last=False) # enable FIFO or LIFO\n",
    "# iterate in insertion order"
   ],
   "outputs": [],
   "metadata": {}
  },
  {
   "cell_type": "code",
   "execution_count": null,
   "source": [
    "# MappingProxyType - read only\n",
    "\n",
    "import types\n",
    "d = types.MappingProxyType({'a':1})\n",
    "d['a'] = 2"
   ],
   "outputs": [],
   "metadata": {}
  },
  {
   "cell_type": "code",
   "execution_count": null,
   "source": [
    "# Enum - enumeration\n",
    "# Immutable, unique, two sided mapping\n",
    "\n",
    "import enum\n",
    "@enum.unique # sanity check for duplicate values\n",
    "class Color(enum.Enum):\n",
    "    RED = 1\n",
    "    BLUE = 2\n",
    "\n",
    "print(Color(2)) # Color.BLUE\n",
    "print(Color['RED']) # Color.RED\n",
    "print(Color.RED.name, Color.RED.value) # RED 1\n",
    "Color.YELLOW = 3 # can add members, but those can only be refrence and aren't part of the class\n",
    "print(list(Color)) # enum is iterable\n"
   ],
   "outputs": [],
   "metadata": {}
  },
  {
   "cell_type": "code",
   "execution_count": null,
   "source": [
    "# dataclass - struct-like class\n",
    "# mutable, extendable class. just provide default __init__ and __repr__\n",
    "\n",
    "from dataclasses import dataclass\n",
    "@dataclass\n",
    "class Color:\n",
    "    name: str\n",
    "    value: int\n",
    "c = Color('red', 1)\n",
    "c"
   ],
   "outputs": [],
   "metadata": {}
  },
  {
   "cell_type": "code",
   "execution_count": null,
   "source": [
    "# namedtuple and NamedTuple\n",
    "# immutable\n",
    "\n",
    "from collections import namedtuple\n",
    "Point = namedtuple(\"Point\", \"x y z\")\n",
    "p = Point(1,2,3)\n",
    "print(p[0] == p.x) # can access by name or index\n",
    "print(p) # nice __repr__\n",
    "\n",
    "# another option\n",
    "from typing import NamedTuple\n",
    "class Point(NamedTuple):\n",
    "    x: int\n",
    "    y: int\n",
    "    z: int\n"
   ],
   "outputs": [],
   "metadata": {}
  },
  {
   "cell_type": "code",
   "execution_count": null,
   "source": [
    "# SimpleNamespace - namespace\n",
    "# like mutable namedtuple\n",
    "\n",
    "from types import SimpleNamespace\n",
    "Point = SimpleNamespace(x=1, y=2, z=3)\n",
    "Point\n",
    " "
   ],
   "outputs": [],
   "metadata": {}
  },
  {
   "cell_type": "code",
   "execution_count": null,
   "source": [],
   "outputs": [],
   "metadata": {}
  },
  {
   "cell_type": "markdown",
   "source": [
    "## Iterables"
   ],
   "metadata": {}
  },
  {
   "cell_type": "code",
   "execution_count": null,
   "source": [
    "# array - c-like more efficient than list\n",
    "\n",
    "import array\n",
    "# possible types: f:float, i:int, b:char, more: https://docs.python.org/3/library/array.html\n",
    "array.array('f', (1,2,3))"
   ],
   "outputs": [],
   "metadata": {}
  },
  {
   "cell_type": "markdown",
   "source": [
    "## Stacs & Queue"
   ],
   "metadata": {}
  },
  {
   "cell_type": "code",
   "execution_count": null,
   "source": [
    "# deque - stack and queue\n",
    "# operations on either end in O(1) (list is O(n) for add and remove)\n",
    "from collections import deque"
   ],
   "outputs": [],
   "metadata": {}
  },
  {
   "cell_type": "code",
   "execution_count": null,
   "source": [
    "# LifoQueue - synchronized queue\n",
    "# use for concurrency\n",
    "\n",
    "from queue import LifoQueue"
   ],
   "outputs": [],
   "metadata": {}
  },
  {
   "cell_type": "markdown",
   "source": [
    "## Sets"
   ],
   "metadata": {}
  },
  {
   "cell_type": "code",
   "execution_count": null,
   "source": [
    "# Counter"
   ],
   "outputs": [],
   "metadata": {}
  }
 ]
}