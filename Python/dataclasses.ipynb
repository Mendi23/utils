{
 "metadata": {
  "language_info": {
   "codemirror_mode": {
    "name": "ipython",
    "version": 3
   },
   "file_extension": ".py",
   "mimetype": "text/x-python",
   "name": "python",
   "nbconvert_exporter": "python",
   "pygments_lexer": "ipython3",
   "version": "3.8.5-final"
  },
  "orig_nbformat": 2,
  "kernelspec": {
   "name": "python38564bite2e055c24a3a4bdeb07006f697ae3cfa",
   "display_name": "Python 3.8.5 64-bit",
   "language": "python"
  }
 },
 "nbformat": 4,
 "nbformat_minor": 2,
 "cells": [
  {
   "source": [
    "# python's data classes\n",
    "just list and examples, more a cheat-sheet than a tuturial. see much more in-depth [here](https://realpython.com/python-data-structures/)"
   ],
   "cell_type": "markdown",
   "metadata": {}
  },
  {
   "source": [
    "## Mapping"
   ],
   "cell_type": "markdown",
   "metadata": {}
  },
  {
   "cell_type": "code",
   "execution_count": null,
   "metadata": {},
   "outputs": [],
   "source": [
    "# OrderedDict\n",
    "\n",
    "import collections\n",
    "d = collections.OrderedDict({'a':1, 'b':2 , 'c':3}) # remember insertion order.\n",
    "d.popitem(last=False) # enable FIFO or LIFO\n",
    "# iterate in insertion order"
   ]
  },
  {
   "cell_type": "code",
   "execution_count": null,
   "metadata": {},
   "outputs": [],
   "source": [
    "# MappingProxyType - read only\n",
    "\n",
    "import types\n",
    "d = types.MappingProxyType({'a':1})\n",
    "d['a'] = 2"
   ]
  },
  {
   "cell_type": "code",
   "execution_count": null,
   "metadata": {},
   "outputs": [],
   "source": [
    "# Enum - enumeration\n",
    "# Immutable, unique, two sided mapping\n",
    "\n",
    "import enum\n",
    "@enum.unique # sanity check for duplicate values\n",
    "class Color(enum.Enum):\n",
    "    RED = 1\n",
    "    BLUE = 2\n",
    "\n",
    "print(Color(2)) # Color.BLUE\n",
    "print(Color['RED']) # Color.RED\n",
    "print(Color.RED.name, Color.RED.value) # RED 1\n",
    "Color.YELLOW = 3 # can add members, but those can only be refrence and aren't part of the class\n",
    "print(list(Color)) # enum is iterable\n"
   ]
  },
  {
   "cell_type": "code",
   "execution_count": 2,
   "metadata": {},
   "outputs": [
    {
     "output_type": "execute_result",
     "data": {
      "text/plain": [
       "Color(name='red', value=1)"
      ]
     },
     "metadata": {},
     "execution_count": 2
    }
   ],
   "source": [
    "# dataclass - struct-like class\n",
    "# mutable, extendable class. just provide default __init__ and __repr__\n",
    "\n",
    "from dataclasses import dataclass\n",
    "@dataclass\n",
    "class Color:\n",
    "    name: str\n",
    "    value: int\n",
    "c = Color('red', 1)\n",
    "c"
   ]
  },
  {
   "cell_type": "code",
   "execution_count": 8,
   "metadata": {},
   "outputs": [
    {
     "output_type": "stream",
     "name": "stdout",
     "text": [
      "True\nPoint(x=1, y=2, z=3)\n"
     ]
    }
   ],
   "source": [
    "# namedtuple and NamedTuple\n",
    "# immutable\n",
    "\n",
    "from collections import namedtuple\n",
    "Point = namedtuple(\"Point\", \"x y z\")\n",
    "p = Point(1,2,3)\n",
    "print(p[0] == p.x) # can access by name or index\n",
    "print(p) # nice __repr__\n",
    "\n",
    "# another option\n",
    "from typing import NamedTuple\n",
    "class Point(NamedTuple):\n",
    "    x: int\n",
    "    y: int\n",
    "    z: int\n"
   ]
  },
  {
   "cell_type": "code",
   "execution_count": 9,
   "metadata": {},
   "outputs": [
    {
     "output_type": "execute_result",
     "data": {
      "text/plain": [
       "namespace(x=1, y=2, z=3)"
      ]
     },
     "metadata": {},
     "execution_count": 9
    }
   ],
   "source": [
    "# SimpleNamespace - namespace\n",
    "# like mutable namedtuple\n",
    "\n",
    "from types import SimpleNamespace\n",
    "Point = SimpleNamespace(x=1, y=2, z=3)\n",
    "Point\n",
    " "
   ]
  },
  {
   "cell_type": "code",
   "execution_count": null,
   "metadata": {},
   "outputs": [],
   "source": []
  },
  {
   "source": [
    "## Iterables"
   ],
   "cell_type": "markdown",
   "metadata": {}
  },
  {
   "cell_type": "code",
   "execution_count": null,
   "metadata": {},
   "outputs": [],
   "source": [
    "# array - c-like more efficient than list\n",
    "\n",
    "import array\n",
    "# possible types: f:float, i:int, b:char, more: https://docs.python.org/3/library/array.html\n",
    "array.array('f', (1,2,3))"
   ]
  },
  {
   "source": [
    "## Stacs & Queue"
   ],
   "cell_type": "markdown",
   "metadata": {}
  },
  {
   "cell_type": "code",
   "execution_count": null,
   "metadata": {},
   "outputs": [],
   "source": [
    "# deque - stack and queue\n",
    "# operations on either end in O(1) (list is O(n) for add and remove)\n",
    "from collections import deque"
   ]
  },
  {
   "cell_type": "code",
   "execution_count": null,
   "metadata": {},
   "outputs": [],
   "source": [
    "# LifoQueue - synchronized queue\n",
    "# use for concurrency\n",
    "\n",
    "from queue import LifoQueue"
   ]
  },
  {
   "source": [
    "## Sets"
   ],
   "cell_type": "markdown",
   "metadata": {}
  },
  {
   "cell_type": "code",
   "execution_count": null,
   "metadata": {},
   "outputs": [],
   "source": [
    "# Counter"
   ]
  }
 ]
}